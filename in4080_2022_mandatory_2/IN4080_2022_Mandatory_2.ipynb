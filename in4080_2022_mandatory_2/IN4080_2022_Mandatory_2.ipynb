{
 "cells": [
  {
   "cell_type": "markdown",
   "metadata": {},
   "source": [
    "# IN4080, 2022, Mandatory assignment 2"
   ]
  },
  {
   "cell_type": "markdown",
   "metadata": {},
   "source": [
    "### About the assignment\n",
    "**Your answer should be delivered in devilry no later than Friday, 14 October at 23:59**\n",
    "\n",
    "It is possible to get 100 points altogether. You are required to get at least 60 points to pass. It is more important that you try to answer each question than that you get everything correct."
   ]
  },
  {
   "cell_type": "markdown",
   "metadata": {},
   "source": [
    "### General requirements:\n",
    "\n",
    "\n",
    "- We assume that you have read and are familiar with IFI's requirements and guidelines for mandatory assignments\n",
    "    - https://www.uio.no/english/studies/examinations/compulsory-activities/mn-ifi-mandatory.html\n",
    "    - https://www.uio.no/english/studies/examinations/compulsory-activities/mn-ifi-guidelines.html\n",
    "- This is an individual assignment. You should not deliver joint submissions.\n",
    "- You may redeliver in Devilry before the deadline, but include all files in the last delivery. Only the last delivery will be read!\n",
    "- If you deliver more than one file, put them into a zip-archive.\n",
    "- Name your submission your_username_in4080_mandatory_2\n",
    "\n",
    "The delivery can take one of two forms:\n",
    "\n",
    "- Alternative A:\n",
    "\n",
    "    - Deliver the code files. \n",
    "    - In addition, deliver a separate pdf file containing results from the runs together with answers to the text questions.\n",
    "    \n",
    "- Alternative B:\n",
    "\n",
    "    - A jupyter notebook containing code, answers to the text questions in markup and optionally results from the runs.\n",
    "    - In addition, a pdf-version of the notebook where (in addition) all the results of the runs are included.\n",
    "\n",
    "Whether you use the first or second alternative, make sure that the code runs at the IFI machines \n",
    "or on your own machine in the environment we provided, see \n",
    "- https://www.uio.no/studier/emner/matnat/ifi/IN4080/h22/lab-setup/.\n",
    "\n",
    "If you use any additional packages, they should be included in your delivery."
   ]
  },
  {
   "cell_type": "markdown",
   "metadata": {
    "collapsed": true
   },
   "source": [
    "### Goals"
   ]
  },
  {
   "cell_type": "markdown",
   "metadata": {},
   "source": [
    "In this assignment we will experiment with sequence classification and tagging. We will combine some of the tools for tagging from NLTK with scikit-learn to build various taggers.We will start with simple examples from NLTK where the tagger only considers the token to be tagged---not its context---and work towards more advanced logistic regression taggers (also called maximum entropy taggers). Finally,  we will compare to some tagging algorithms installed in NLTK.\n",
    "\n",
    "In this set you will get more experience with\n",
    "\n",
    "- baseline for a tagger and more generally for classification\n",
    "- how different tag sets may result in different accuracies\n",
    "- feature selection\n",
    "- the effect of the machine learner\n",
    "- smoothing \n",
    "- evaluation\n",
    "- in-domain and out-of-domain evaluation\n",
    "\n",
    "To get a good tagger, you need a reasonably sized tagged training corpus. Ideally, we would have used the complete Brown corpus in this exercise, but it turns out that some of the experiments we will run, will be time-consuming. Hence, we will follow the NLTK book and use only the News section initially. Since this is a rather homogeneous domain, and we also pick our test data from the same domain, we can still get decent results.\n",
    "\n",
    "In the last half of the assigment, we will see what happens if we take our best settings from the News section to a bigger corpus.\n",
    "\n",
    "Beware that even with this reduced corpus, some of the experiments will take several minutes. And when we build the full tagger in exercise 5, an experiment may take half an hour. So make sure you start the work early enough. (You might do other things while the experiments are running.)"
   ]
  },
  {
   "cell_type": "markdown",
   "metadata": {},
   "source": [
    "### Replicating NLTK Ch. 6 \n",
    "\n",
    "We jump into the NLTK book, chapter 6, the sections 6.1.5 Exploiting context and 6.1.6 Sequence classification. You are advised to read them before you start.\n",
    "\n",
    "We start by importing NLTK and the tagged sentences from the news-section from Brown, similarly to the NLTK book.\n",
    "\n",
    "Then we split the set of sentences into a train set and a test set."
   ]
  },
  {
   "cell_type": "code",
   "execution_count": 1,
   "metadata": {},
   "outputs": [],
   "source": [
    "import re\n",
    "import pprint\n",
    "import nltk\n",
    "from nltk.corpus import brown\n",
    "tagged_sents = brown.tagged_sents(categories='news')\n",
    "size = int(len(tagged_sents) * 0.1)\n",
    "train_sents, test_sents = tagged_sents[size:], tagged_sents[:size]"
   ]
  },
  {
   "cell_type": "markdown",
   "metadata": {},
   "source": [
    "Like NLTK, our tagger will have two parts, a feature extractor, here called **pos_features**, and a general class for building taggers, **ConsecutivePosTagger**.\n",
    "\n",
    "We have made a few adjustments to the NLTK setup. We are using the *pos_features* from section 6.1.5 together with the *ConsecutivePosTagger* from section 6.1.6. The *pos_features* in section 1.5 does not consider history, but to get a format that works together with *ConsecutivePosTagger*, we have included an argument for history in *pos_features*, which is not used initially. (It get used by the *pos_features* in section 6.1.6 of the NLTK book, and you may choose to use it later in this set).\n",
    "\n",
    "Secondly, we have made the *feature_extractor* a parameter to *ConsecutivePosTagger*, so that it can easily be replaced by other feature extractors while keeping *ConsecutivePosTagger*."
   ]
  },
  {
   "cell_type": "code",
   "execution_count": 2,
   "metadata": {},
   "outputs": [],
   "source": [
    " def pos_features(sentence, i, history): \n",
    "     features = {\"suffix(1)\": sentence[i][-1:],\n",
    "                 \"suffix(2)\": sentence[i][-2:],\n",
    "                 \"suffix(3)\": sentence[i][-3:]}\n",
    "     if i == 0:\n",
    "         features[\"prev-word\"] = \"<START>\"\n",
    "     else:\n",
    "         features[\"prev-word\"] = sentence[i-1]\n",
    "     return features"
   ]
  },
  {
   "cell_type": "code",
   "execution_count": 3,
   "metadata": {},
   "outputs": [],
   "source": [
    "class ConsecutivePosTagger(nltk.TaggerI): \n",
    "\n",
    "    def __init__(self, train_sents, features=pos_features):\n",
    "        self.features = features\n",
    "        train_set = []\n",
    "        for tagged_sent in train_sents:\n",
    "            untagged_sent = nltk.tag.untag(tagged_sent)\n",
    "            history = []\n",
    "            for i, (word, tag) in enumerate(tagged_sent):\n",
    "                featureset = features(untagged_sent, i, history)\n",
    "                train_set.append( (featureset, tag) )\n",
    "                history.append(tag)\n",
    "        self.classifier = nltk.NaiveBayesClassifier.train(train_set)\n",
    "\n",
    "    def tag(self, sentence):\n",
    "        history = []\n",
    "        for i, word in enumerate(sentence):\n",
    "            featureset = self.features(sentence, i, history)\n",
    "            tag = self.classifier.classify(featureset)\n",
    "            history.append(tag)\n",
    "        return zip(sentence, history)"
   ]
  },
  {
   "cell_type": "markdown",
   "metadata": {},
   "source": [
    "Following the NLTK book, we train and test a classifier. Observe that the NLTK method for accuracy has been updated to `tagger.accuracy` and not `tagger.evaluate`."
   ]
  },
  {
   "cell_type": "code",
   "execution_count": 4,
   "metadata": {},
   "outputs": [
    {
     "name": "stdout",
     "output_type": "stream",
     "text": [
      "0.7915\n"
     ]
    }
   ],
   "source": [
    "tagger = ConsecutivePosTagger(train_sents)\n",
    "print(round(tagger.accuracy(test_sents), 4))"
   ]
  },
  {
   "cell_type": "markdown",
   "metadata": {},
   "source": [
    "This should give results comparable to the NLTK book."
   ]
  },
  {
   "cell_type": "markdown",
   "metadata": {},
   "source": [
    "## Ex 1: Tag set and baseline (10 points)\n",
    "### Part a. Tag set and experimental set-up"
   ]
  },
  {
   "cell_type": "markdown",
   "metadata": {},
   "source": [
    "We will simplify and use the universal pos tagset in this exercise. The main reason is that it makes the experiments run faster. With more time, it would have been interesting to also run all the experiments with the original set of tags and compare the effect the tag set has on the results.\n",
    "\n",
    "We will be a little more cautious than the NLTK-book when it comes to training and test sets. We will split the News-section into three sets\n",
    "\n",
    "- 10% for final testing which we tuck aside for now, call it *news_test*\n",
    "- 10% for development testing, call it *news_dev_test*\n",
    "- 80% for training, call it *news_train*\n",
    "\n",
    "- Make the data sets, and repeat the training and evaluation with *news_train* and *news_dev_test*.\n",
    "- Please use 4 counting decimal places and stick to that throughout the exercise set.\n",
    "\n",
    "How is the result compared to using the full brown tagset in the introduction? Why do you think one of the tagsets yields higher scores than the other one?"
   ]
  },
  {
   "cell_type": "markdown",
   "metadata": {},
   "source": [
    "### Part b. Baseline \n",
    "\n",
    "One of the first things we should do in an experiment like this, is to establish a reasonable baseline. A reasonable baseline here is the **Most Frequent Class baseline**.\n",
    "Each word which is seen during training should get its most frequent tag from the training. \n",
    "For words not seen during training, we simply use the most frequent overall tag.\n",
    "\n",
    "With *news_train* as training set and *news_dev_set* as valuation set, what is the accuracy of this baseline?\n",
    "\n",
    "Does the tagger from (Part a) using the features from the NLTK book together with the universal tags beat the baseline?"
   ]
  },
  {
   "cell_type": "markdown",
   "metadata": {},
   "source": [
    "#### Deliveries:\n",
    "Code and results of runs for both parts. For both parts, also answers to the questions."
   ]
  },
  {
   "cell_type": "markdown",
   "metadata": {},
   "source": [
    "## Ex 2: scikit-learn and tuning (10 points)\n",
    "Our goal will be to improve the tagger compared to the simple suffix-based tagger. For the further experiments, we move to scikit-learn which yields more options for considering various alternatives. We have reimplemented the ConsecutivePosTagger to use scikit-learn classifiers below. We have made the classifier a parameter so that it can easily be exchanged. We start with the BernoulliNB-classifier which should correspond to the way it is done in NLTK.  "
   ]
  },
  {
   "cell_type": "code",
   "execution_count": 9,
   "metadata": {},
   "outputs": [],
   "source": [
    "import numpy as np\n",
    "import sklearn\n",
    "\n",
    "from sklearn.naive_bayes import BernoulliNB\n",
    "from sklearn.linear_model import LogisticRegression\n",
    "from sklearn.feature_extraction import DictVectorizer\n",
    "\n",
    "\n",
    "class ScikitConsecutivePosTagger(nltk.TaggerI): \n",
    "\n",
    "    def __init__(self, train_sents, \n",
    "                 features=pos_features, clf = BernoulliNB()):\n",
    "        # Using pos_features as default.\n",
    "        self.features = features\n",
    "        train_features = []\n",
    "        train_labels = []\n",
    "        for tagged_sent in train_sents:\n",
    "            history = []\n",
    "            untagged_sent = nltk.tag.untag(tagged_sent)\n",
    "            for i, (word, tag) in enumerate(tagged_sent):\n",
    "                featureset = features(untagged_sent, i, history)\n",
    "                train_features.append(featureset)\n",
    "                train_labels.append(tag)\n",
    "                history.append(tag)\n",
    "        v = DictVectorizer()\n",
    "        X_train = v.fit_transform(train_features)\n",
    "        y_train = np.array(train_labels)\n",
    "        clf.fit(X_train, y_train)\n",
    "        self.classifier = clf\n",
    "        self.dict = v\n",
    "\n",
    "    def tag(self, sentence):\n",
    "        test_features = []\n",
    "        history = []\n",
    "        for i, word in enumerate(sentence):\n",
    "            featureset = self.features(sentence, i, history)\n",
    "            test_features.append(featureset)\n",
    "        X_test = self.dict.transform(test_features)\n",
    "        tags = self.classifier.predict(X_test)\n",
    "        return zip(sentence, tags)"
   ]
  },
  {
   "cell_type": "markdown",
   "metadata": {},
   "source": [
    "### Part a.\n",
    "Train the ScikitConsecutivePosTagger on the *news_train* set and test on the *news_dev_test* set with the *pos_features*. Do you get the same result as with the same data and features and the NLTK code in exercise 1a?"
   ]
  },
  {
   "cell_type": "markdown",
   "metadata": {},
   "source": [
    "### Part b.\n",
    "I get inferior results compared to using the NLTK set-up with the same feature extractors. The only explanation I could find is that the smoothing is too strong. BernoulliNB() from scikit-learn uses Laplace smoothing as default (\"add-one\"). The smoothing is generalized to Lidstone smoothing which is expressed by the alpha parameter to BernoulliNB(alpha=...)\n",
    "Therefore, try again with alpha in [1, 0.5, 0.1, 0.01, 0.001, 0.0001]. What do you find to be the best value for alpha?\n",
    "\n",
    "With the best choice of alpha, do you get the same results as with the NLTK code in exercise 1a, worse results or better results? "
   ]
  },
  {
   "cell_type": "markdown",
   "metadata": {},
   "source": [
    "### Part c.\n",
    "To improve the results, we may change the feature selector or the machine learner. We start with a simple improvement of the feature selector. The NLTK selector considers the previous word, but not the word itself. Intuitively, the word itself should be a stronger feature. Extend the NLTK feature selector with a feature for the token to be tagged. Rerun the experiment with various alphas and record the results. Which alpha gives the best accuracy and what is the accuracy?\n",
    "\n",
    "Did the extended feature selector beat the baseline? Intuitively, it should get as least as good accuracy as the baseline. Explain why!"
   ]
  },
  {
   "cell_type": "markdown",
   "metadata": {},
   "source": [
    "## Ex 3: Logistic regression (10 points)\n",
    "### Part a.\n",
    "We proceed with the best feature selector from the last exercise. We will study the effect of the learner. Import *LogisticRegression* and use it with standard settings instead of *BernoulliNB*. Train on *news_train* and test on *news_dev_test* and record the result. Is it better than the best result with Naive Bayes? "
   ]
  },
  {
   "cell_type": "markdown",
   "metadata": {},
   "source": [
    "### Part b.\n",
    "Similarly to the Naive Bayes classifier, we will study the effect of smoothing. Smoothing for LogisticRegression is done by regularization. In scikit-learn, regularization is expressed by the parameter C. A smaller C means a heavier smoothing. (C is the inverse of the parameter $\\alpha$ in the lectures.) Try with C in [0.01, 0.1, 1.0, 10.0, 100.0, 1000.0] and see which value which yields the best result.\n",
    "\n",
    "Which C gives the best result?"
   ]
  },
  {
   "cell_type": "markdown",
   "metadata": {},
   "source": [
    "#### Deliveries:\n",
    "Code. Results of the runs. Answers to the questions."
   ]
  },
  {
   "cell_type": "markdown",
   "metadata": {},
   "source": [
    "## Ex 4: Features (15 points)\n",
    "### Part a.\n",
    "We will now stick to the *LogisticRegression()* with the optimal C from the last point and see whether we are able to improve the results further by extending the feature extractor with more features. First, try adding a feature for the next word in the sentence, and then train and test."
   ]
  },
  {
   "cell_type": "markdown",
   "metadata": {},
   "source": [
    "### Part b.\n",
    "Try to add more features to get an even better tagger. Only the fantasy sets limits to what you may consider. Some candidates: is the word a number? Is it capitalized? Does it contain capitals? Does it contain a hyphen? Consider larger contexts? etc. What is the best feature set you can come up with? Train and test various feature sets and select the best one. \n",
    "\n",
    "If you use sources for finding tips about good features (like articles, web pages, NLTK code, etc.) make references to the sources and explain what you got from them.\n",
    "\n",
    "Observe that the way *ScikitConsecutivePosTagger.tag()* is written, it extracts the features from a whole sentence before it tags it. Hence it does not support  preceding tags as features. It is possible to rewrite *ScikitConsecutivePosTagger.tag()* to extract features after reading each word, and to use the *history* which keeps the preceding tags in the sentence. If you like, you may try it. Expect, however, that the tagger will becomr much slower. We got surprisingly little gain from including preceding tags as features, and you are not requested to trying it."
   ]
  },
  {
   "cell_type": "markdown",
   "metadata": {},
   "source": [
    "#### Deliveries:\n",
    "Code. Results of the runs. Answers to the questions."
   ]
  },
  {
   "cell_type": "markdown",
   "metadata": {},
   "source": [
    "## Ex 5: Training on a larger corpus (15 points)\n",
    "### Part a.\n",
    "We have so far used a smaller corpus, the news section, for finding optimal settings for a tagger. We will now try to make a better tagger by training on a larger corpus. We will use nearly the whole Brown corpus. But we will take away two categories for later evaluation: *adventure* and *hobbies*. We will also initially stay clear of *news* to be sure not to mix training and test data.\n",
    "\n",
    "Call the Brown corpus with all categories except these three for *rest*. Shuffle the tagged sentences from *rest* and remember to use the universal pos tagset. Then split the set into 80%-10%-10%: *rest_train*, *rest_dev_test*, *rest_test*.\n",
    "\n",
    "We can then merge these three sets with the corresponding sets from *news* to get final training and test sets:\n",
    "\n",
    "* `train = rest_train+news_train`\n",
    "* `dev_test = rest_dev_test + uni_news_dev_test`\n",
    "* `test = rest_test + news_test`\n",
    "\n",
    "Prepare the corpus as described."
   ]
  },
  {
   "cell_type": "markdown",
   "metadata": {},
   "source": [
    "### Part b.\n",
    "The next step is to establish a baseline for a tagger trained on this larger corpus, and evaluate it on *dev_test*."
   ]
  },
  {
   "cell_type": "markdown",
   "metadata": {},
   "source": [
    "### Part c.\n",
    "We can then train our tagger on this larger corpus. Use the best settings from the earlier exercises, train on *train* and test on *dev_test*. What is the accuracy of your tagger? \n",
    "\n",
    "#### Warning: Running this experiment may take 15-30 min."
   ]
  },
  {
   "cell_type": "markdown",
   "metadata": {},
   "source": [
    "## Ex6: Evaluation metrics (10 points)\n",
    "### Part a.\n",
    "The accuracy should be quite decent now $>0.97$. Still, we will like to find out more about where the tagger makes mistakes. With only 12 different tags, we can get all the results into a confusion table. Take a look at https://www.nltk.org/api/nltk.tag.api.html and make a confusion table for the results on *dev_test*.\n",
    "\n",
    "Make sure you understand what the rows and columns are."
   ]
  },
  {
   "cell_type": "markdown",
   "metadata": {},
   "source": [
    "### Part b.\n",
    "Finding hints on the same web page, calculate the precision, recall and f-measure for each tag and display the results in a table."
   ]
  },
  {
   "cell_type": "markdown",
   "metadata": {},
   "source": [
    "### Part c.\n",
    "Calculate the macro precision, macro recall and macro f-measure across the 12 tags. "
   ]
  },
  {
   "cell_type": "markdown",
   "metadata": {},
   "source": [
    "## Ex 7: Error analysis (10 points)\n",
    "Sometimes when we make classifiers for NLP phenomena, it makes sense to inspect the errors more thoroughly. Where does the classifier make errors? What kind of errors? Find five sentences where at least one token is mis-classified, and display these sentences on the follwing form, with the pred(icted) and gold tags.\n",
    "\n",
    "```\n",
    "Token               pred   gold   \n",
    "==================================\n",
    "The                 DET    DET    \n",
    "panda               NOUN   NOUN   \n",
    "eats                VERB   VERB   \n",
    "shoots              VERB   NOUN   \n",
    "and                 CONJ   CONJ    \n",
    "leaves              VERB   NOUN    \n",
    "```\n",
    "\n",
    "Identify the words that are tagged differently. Comment on each of the differences. Would you say that the predicted tag is wrong? Or is there a genuine ambiguity such that both answers are defendable? Or is even the gold tag wrong? "
   ]
  },
  {
   "cell_type": "markdown",
   "metadata": {},
   "source": [
    "## Ex 8: Final testing (10 points)\n",
    "### Part a.\n",
    "We have reached a stage where we will make no further adjustments to our tagger. We are ready to perform the final testing. First, test the final tagger from exercise 5 on the the test set *test*? How is the result compared to *dev_test*?"
   ]
  },
  {
   "cell_type": "markdown",
   "metadata": {},
   "source": [
    "### Part b.\n",
    "We will compare in-domain to out-of-domain testing. Test the big tagger first on *adventures* then on *hobbies*. Discuss in a few sentences why you see different results from when testing on *test*. Why do you think you got different results on *adventures* compared to *hobbies*?"
   ]
  },
  {
   "cell_type": "markdown",
   "metadata": {},
   "source": [
    "#### Deliveries:\n",
    "Code. Results of the runs. Answers to the questions."
   ]
  },
  {
   "cell_type": "markdown",
   "metadata": {
    "collapsed": true
   },
   "source": [
    "## Ex 9: Comparing to other taggers (10 points)"
   ]
  },
  {
   "cell_type": "markdown",
   "metadata": {},
   "source": [
    "### Part a.\n",
    "In the lectures, we spent quite some time on the HMM-tagger. NLTK comes with an HMM-tagger which we may train and test on our own corpus. It can be trained by \n",
    "\n",
    "`news_hmm_tagger = nltk.HiddenMarkovModelTagger.train(news_train)`\n",
    "\n",
    "and tested similarly as we have tested our other taggers. Train and test it, first on the *news* set then on the big *train*/*test* set. How does it perform compared to your best tagger? What about speed?"
   ]
  },
  {
   "cell_type": "markdown",
   "metadata": {},
   "source": [
    "### Part b\n",
    "NLTK also comes with an averaged perceptron tagger which we may train and test. It is currently considered the best tagger included with NLTK. It can be trained as follows:"
   ]
  },
  {
   "cell_type": "markdown",
   "metadata": {},
   "source": [
    "```\n",
    "%%time\n",
    "per_tagger = nltk.PerceptronTagger(load=False)\n",
    "per_tagger.train(train)\n",
    "```"
   ]
  },
  {
   "cell_type": "markdown",
   "metadata": {},
   "source": [
    "It is tested similarly to our other taggers. \n",
    "\n",
    "Train and test it, first on the news set and then on the big train/test set. How does it perform compared to your best tagger? Did you beat it? What about speed?"
   ]
  },
  {
   "cell_type": "markdown",
   "metadata": {},
   "source": [
    "#### Deliveries: \n",
    "Code. Results of the runs. Answers to the questions."
   ]
  },
  {
   "cell_type": "markdown",
   "metadata": {},
   "source": [
    "# THE END OF ASSIGNMENT 2"
   ]
  }
 ],
 "metadata": {
  "kernelspec": {
   "display_name": "Python 3 (ipykernel)",
   "language": "python",
   "name": "python3"
  },
  "language_info": {
   "codemirror_mode": {
    "name": "ipython",
    "version": 3
   },
   "file_extension": ".py",
   "mimetype": "text/x-python",
   "name": "python",
   "nbconvert_exporter": "python",
   "pygments_lexer": "ipython3",
   "version": "3.9.12"
  }
 },
 "nbformat": 4,
 "nbformat_minor": 2
}
